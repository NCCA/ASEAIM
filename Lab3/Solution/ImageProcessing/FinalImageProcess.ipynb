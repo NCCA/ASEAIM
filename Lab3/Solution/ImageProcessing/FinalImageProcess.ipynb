{
 "cells": [
  {
   "cell_type": "markdown",
   "id": "3c7d0f88",
   "metadata": {},
   "source": [
    "# Finding Domenant Colours\n",
    "\n"
   ]
  },
  {
   "cell_type": "code",
   "execution_count": 15,
   "id": "87d33f3b",
   "metadata": {},
   "outputs": [
    {
     "ename": "ValueError",
     "evalue": "could not broadcast input array from shape (4,) into shape (100,)",
     "output_type": "error",
     "traceback": [
      "\u001b[0;31m---------------------------------------------------------------------------\u001b[0m",
      "\u001b[0;31mValueError\u001b[0m                                Traceback (most recent call last)",
      "Input \u001b[0;32mIn [15]\u001b[0m, in \u001b[0;36m<cell line: 34>\u001b[0;34m()\u001b[0m\n\u001b[1;32m     29\u001b[0m grid \u001b[38;5;241m=\u001b[39m ImageGrid(fig, \u001b[38;5;241m111\u001b[39m,  \u001b[38;5;66;03m# similar to subplot(111)\u001b[39;00m\n\u001b[1;32m     30\u001b[0m                  nrows_ncols\u001b[38;5;241m=\u001b[39m(\u001b[38;5;241m2\u001b[39m, \u001b[38;5;241m2\u001b[39m),  \u001b[38;5;66;03m# creates 2x2 grid of axes\u001b[39;00m\n\u001b[1;32m     31\u001b[0m                  axes_pad\u001b[38;5;241m=\u001b[39m\u001b[38;5;241m0.1\u001b[39m,  \u001b[38;5;66;03m# pad between axes in inch.\u001b[39;00m\n\u001b[1;32m     32\u001b[0m                  )\n\u001b[1;32m     34\u001b[0m \u001b[38;5;28;01mfor\u001b[39;00m ax, im \u001b[38;5;129;01min\u001b[39;00m \u001b[38;5;28mzip\u001b[39m(grid, colours):\n\u001b[1;32m     35\u001b[0m     \u001b[38;5;66;03m# Iterating over the grid returns the Axes.\u001b[39;00m\n\u001b[0;32m---> 36\u001b[0m     ax\u001b[38;5;241m.\u001b[39mimshow(\u001b[43mnp\u001b[49m\u001b[38;5;241;43m.\u001b[39;49m\u001b[43mfull\u001b[49m\u001b[43m(\u001b[49m\u001b[43m \u001b[49m\u001b[43m(\u001b[49m\u001b[38;5;241;43m100\u001b[39;49m\u001b[43m)\u001b[49m\u001b[43m \u001b[49m\u001b[43m,\u001b[49m\u001b[43mim\u001b[49m\u001b[43m)\u001b[49m )\n\u001b[1;32m     38\u001b[0m plt\u001b[38;5;241m.\u001b[39mshow()\n",
      "File \u001b[0;32m~/.pyenv/versions/anaconda3-2022.05/lib/python3.9/site-packages/numpy/core/numeric.py:344\u001b[0m, in \u001b[0;36mfull\u001b[0;34m(shape, fill_value, dtype, order, like)\u001b[0m\n\u001b[1;32m    342\u001b[0m     dtype \u001b[38;5;241m=\u001b[39m fill_value\u001b[38;5;241m.\u001b[39mdtype\n\u001b[1;32m    343\u001b[0m a \u001b[38;5;241m=\u001b[39m empty(shape, dtype, order)\n\u001b[0;32m--> 344\u001b[0m \u001b[43mmultiarray\u001b[49m\u001b[38;5;241;43m.\u001b[39;49m\u001b[43mcopyto\u001b[49m\u001b[43m(\u001b[49m\u001b[43ma\u001b[49m\u001b[43m,\u001b[49m\u001b[43m \u001b[49m\u001b[43mfill_value\u001b[49m\u001b[43m,\u001b[49m\u001b[43m \u001b[49m\u001b[43mcasting\u001b[49m\u001b[38;5;241;43m=\u001b[39;49m\u001b[38;5;124;43m'\u001b[39;49m\u001b[38;5;124;43munsafe\u001b[39;49m\u001b[38;5;124;43m'\u001b[39;49m\u001b[43m)\u001b[49m\n\u001b[1;32m    345\u001b[0m \u001b[38;5;28;01mreturn\u001b[39;00m a\n",
      "File \u001b[0;32m<__array_function__ internals>:5\u001b[0m, in \u001b[0;36mcopyto\u001b[0;34m(*args, **kwargs)\u001b[0m\n",
      "\u001b[0;31mValueError\u001b[0m: could not broadcast input array from shape (4,) into shape (100,)"
     ]
    },
    {
     "data": {
      "image/png": "[encoded data removed]",
      "text/plain": [
       "<Figure size 288x288 with 8 Axes>"
      ]
     },
     "metadata": {
      "needs_background": "light"
     },
     "output_type": "display_data"
    }
   ],
   "source": [
    "import scipy.cluster\n",
    "import sklearn.cluster\n",
    "import numpy as np\n",
    "import PIL.Image\n",
    "import matplotlib.pyplot as plt\n",
    "from mpl_toolkits.axes_grid1 import ImageGrid\n",
    "import numpy as np\n",
    "\n",
    "image = PIL.Image.open(\"test.0000.png\")\n",
    "data_array = np.asarray(image)\n",
    "shape = data_array.shape\n",
    "data_array = data_array.reshape(np.product(shape[:2]), shape[2]).astype(float)\n",
    "kmeans = sklearn.cluster.MiniBatchKMeans(\n",
    "        n_clusters=10,\n",
    "        init=\"k-means++\",\n",
    "        max_iter=20,\n",
    "        random_state=1000\n",
    "    ).fit(data_array)\n",
    "codes = kmeans.cluster_centers_\n",
    "vecs, _dist = scipy.cluster.vq.vq(data_array, codes)         # assign codes\n",
    "counts, _bins = np.histogram(vecs, len(codes))    # count occurrences\n",
    "\n",
    "colours = []\n",
    "for index in np.argsort(counts)[::-1]:\n",
    "    colours.append(tuple([int(code) for code in codes[index]]))\n",
    "\n",
    "\n",
    "fig = plt.figure(figsize=(4., 4.))\n",
    "grid = ImageGrid(fig, 111,  # similar to subplot(111)\n",
    "                 nrows_ncols=(2, 2),  # creates 2x2 grid of axes\n",
    "                 axes_pad=0.1,  # pad between axes in inch.\n",
    "                 )\n",
    "\n",
    "for ax, im in zip(grid, colours):\n",
    "    # Iterating over the grid returns the Axes.\n",
    "    \n",
    "plt.show()\n",
    "    \n",
    "    \n",
    "# new_image=IPImage(\"test.0000.png\", width=200, height=200)\n",
    "# display(new_image)\n",
    "# for c in colours :\n",
    "#     square(0,0,40,40,c[0],c[1],c[2],canvas_height=40,canvas_width=40)"
   ]
  },
  {
   "cell_type": "code",
   "execution_count": null,
   "id": "ac137042",
   "metadata": {},
   "outputs": [],
   "source": []
  }
 ],
 "metadata": {
  "kernelspec": {
   "display_name": "Python 3 (ipykernel)",
   "language": "python",
   "name": "python3"
  },
  "language_info": {
   "codemirror_mode": {
    "name": "ipython",
    "version": 3
   },
   "file_extension": ".py",
   "mimetype": "text/x-python",
   "name": "python",
   "nbconvert_exporter": "python",
   "pygments_lexer": "ipython3",
   "version": "3.9.12"
  }
 },
 "nbformat": 4,
 "nbformat_minor": 5
}
